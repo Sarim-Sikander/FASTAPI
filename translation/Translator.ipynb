{
  "cells": [
    {
      "cell_type": "code",
      "source": [
        "# !pip install googletrans==3.1.0a0"
      ],
      "metadata": {
        "id": "H9bsSDO-3FZu"
      },
      "execution_count": 6,
      "outputs": []
    },
    {
      "cell_type": "code",
      "source": [
        "# import googletrans\n",
        "# from googletrans import Translator\n",
        "# translator = Translator()"
      ],
      "metadata": {
        "id": "bdzbydd-9L1v"
      },
      "execution_count": 3,
      "outputs": []
    },
    {
      "cell_type": "code",
      "source": [
        "# import pickle\n",
        "# pickle.dump(Translator,open('/content/drive/MyDrive/FINAL FYP/Translation/translator.pkl','wb'))"
      ],
      "metadata": {
        "id": "dhIgAb5HdgN-"
      },
      "execution_count": 5,
      "outputs": []
    },
    {
      "cell_type": "code",
      "source": [
        "def get_translation(text, dest):\n",
        "  import pickle\n",
        "  translator=pickle.load(open('/content/drive/MyDrive/FINAL FYP/Translation/translator.pkl', 'rb'))\n",
        "  translator=translator()\n",
        "  langs = ['en','ur','hi']\n",
        "  if len(text.split(' ')) > 0 and translator.detect(text).lang in langs:\n",
        "    src = translator.detect(text).lang\n",
        "    if src == \"en\" and dest == \"ur\":\n",
        "      translated = translator.translate(text, src=src, dest = dest)\n",
        "      return translated.text\n",
        "    elif src == \"en\" and dest == \"hi\":\n",
        "      translated = translator.translate(text, src=src, dest = dest)\n",
        "      return translated.pronunciation\n",
        "    elif (src == \"hi\" or src == \"ur\") and dest == \"en\":\n",
        "      translated = translator.translate(text, src=src, dest = dest)\n",
        "      return translated.text\n",
        "    else:\n",
        "      print('Wrong Destination')\n",
        "  else:\n",
        "    print('Enter the text again')"
      ],
      "metadata": {
        "id": "fJvKHx2edk-d"
      },
      "execution_count": 9,
      "outputs": []
    },
    {
      "cell_type": "code",
      "source": [
        "get_translation(\"Hey it is okay or not?\",'ur')"
      ],
      "metadata": {
        "colab": {
          "base_uri": "https://localhost:8080/",
          "height": 36
        },
        "id": "DF4y20kEd7aI",
        "outputId": "31ae32aa-eb4b-496d-c727-4d13041672a5"
      },
      "execution_count": 11,
      "outputs": [
        {
          "output_type": "execute_result",
          "data": {
            "application/vnd.google.colaboratory.intrinsic+json": {
              "type": "string"
            },
            "text/plain": [
              "'ارے یہ ٹھیک ہے یا نہیں؟'"
            ]
          },
          "metadata": {},
          "execution_count": 11
        }
      ]
    },
    {
      "cell_type": "code",
      "source": [
        "# !apt install -qq enchant\n",
        "# !pip install pyenchant"
      ],
      "metadata": {
        "id": "E3shWUJMeKG-"
      },
      "execution_count": 12,
      "outputs": []
    }
  ],
  "metadata": {
    "colab": {
      "name": "Translator.ipynb",
      "provenance": [],
      "collapsed_sections": []
    },
    "kernelspec": {
      "display_name": "Python 3",
      "name": "python3"
    },
    "language_info": {
      "name": "python"
    }
  },
  "nbformat": 4,
  "nbformat_minor": 0
}